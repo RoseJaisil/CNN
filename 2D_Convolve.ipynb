{
  "nbformat": 4,
  "nbformat_minor": 0,
  "metadata": {
    "colab": {
      "provenance": [],
      "authorship_tag": "ABX9TyPwd4hMzrRNwCGWBt66RhP6",
      "include_colab_link": true
    },
    "kernelspec": {
      "name": "python3",
      "display_name": "Python 3"
    },
    "language_info": {
      "name": "python"
    }
  },
  "cells": [
    {
      "cell_type": "markdown",
      "metadata": {
        "id": "view-in-github",
        "colab_type": "text"
      },
      "source": [
        "<a href=\"https://colab.research.google.com/github/RoseJaisil/CNN/blob/main/2D_Convolve.ipynb\" target=\"_parent\"><img src=\"https://colab.research.google.com/assets/colab-badge.svg\" alt=\"Open In Colab\"/></a>"
      ]
    },
    {
      "cell_type": "markdown",
      "source": [
        "# Import libraries"
      ],
      "metadata": {
        "id": "WD6Q7GGoCVW-"
      }
    },
    {
      "cell_type": "code",
      "source": [
        "import numpy as np\n",
        "import scipy.signal as sc"
      ],
      "metadata": {
        "id": "c0tUbRKdCYMp"
      },
      "execution_count": 14,
      "outputs": []
    },
    {
      "cell_type": "markdown",
      "source": [
        "# Create 2d conv function"
      ],
      "metadata": {
        "id": "aCAXGoeLCi2P"
      }
    },
    {
      "cell_type": "code",
      "source": [
        "def conv2d(X, W, p=(0, 0), s=(1,1)):\n",
        "  \"\"\"\n",
        "  X - 2D list\n",
        "  W - 2D filter\n",
        "  p - padding size in 2D\n",
        "  s - stride in 2D\n",
        "  \n",
        "  convolution type = same\n",
        "  \"\"\"\n",
        "  W_rot = np.array(W)[::-1, ::-1] # convert the filter to array and rotate\n",
        "  X_orig = np.array(X) # convert it to array\n",
        "\n",
        "  n1 = X_orig.shape[0] + 2*p[0] # height of the output image\n",
        "  n2 = X_orig.shape[1] + 2*p[1] # width of the output image\n",
        "\n",
        "  X_padded = np.zeros(shape=(n1,n2)) # zeros of shape equivalent to the output image\n",
        "  X_padded[p[0]:p[0]+X_orig.shape[0], p[1]:p[1]+X_orig.shape[1]] = X_orig # fitting the input image to the center part of the zero matrix\n",
        "\n",
        "  res =[] # list to collect convolution result for each window\n",
        "  for i in range(0, int((X_padded.shape[0] - W_rot.shape[0])/s[0])+1, s[0]): # in the height dim\n",
        "    res.append([]) # tips to make the list to 2D \n",
        "\n",
        "    for j in range(0, int((X_padded.shape[1] - W_rot.shape[1])/s[1])+1, s[1]):\n",
        "      # take out a chunk from the image\n",
        "      X_sub = X_padded[i:i+W_rot.shape[0], j:j+W_rot.shape[1]]\n",
        "\n",
        "      # Convolution \n",
        "      res[-1].append(np.sum(X_sub * W_rot)) # elementwise multiplication and then sum it up\n",
        "\n",
        "  return(np.array(res))\n"
      ],
      "metadata": {
        "id": "wpEcFkMjCh2L"
      },
      "execution_count": 18,
      "outputs": []
    },
    {
      "cell_type": "markdown",
      "source": [
        "# Testing"
      ],
      "metadata": {
        "id": "VgtRth4RQoIo"
      }
    },
    {
      "cell_type": "code",
      "source": [
        "# Input 2D list\n",
        "X= [[1, 3, 2, 4], [5, 6, 1, 3], [1, 2, 0, 2], [3, 4, 3, 2]]\n",
        "W = [[1, 0 ,3], [1, 2, 1], [0, 1, 1]]\n",
        "\n",
        "# Custom built convolution function\n",
        "print('conv2d function implementation:',\n",
        "      conv2d(X, W, p=(1,1), s=(1,1)))\n",
        "\n",
        "# Scipy convolution function\n",
        "print(\"Scipy function implementation\",\n",
        "      sc.convolve2d(X, W, mode='same'))"
      ],
      "metadata": {
        "colab": {
          "base_uri": "https://localhost:8080/"
        },
        "id": "qhwIccDgNzwp",
        "outputId": "e2869e5f-30a0-4fec-91a7-2140a8c6a9cd"
      },
      "execution_count": 19,
      "outputs": [
        {
          "output_type": "stream",
          "name": "stdout",
          "text": [
            "conv2d function implementation: [[11. 25. 32. 13.]\n",
            " [19. 25. 24. 13.]\n",
            " [13. 28. 25. 17.]\n",
            " [11. 17. 14.  9.]]\n",
            "Scipy function implementation [[11 25 32 13]\n",
            " [19 25 24 13]\n",
            " [13 28 25 17]\n",
            " [11 17 14  9]]\n"
          ]
        }
      ]
    },
    {
      "cell_type": "code",
      "source": [],
      "metadata": {
        "id": "7KYOQL3fRvvL"
      },
      "execution_count": null,
      "outputs": []
    }
  ]
}