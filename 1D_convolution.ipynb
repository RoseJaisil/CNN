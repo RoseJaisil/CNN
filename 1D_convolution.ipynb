{
  "nbformat": 4,
  "nbformat_minor": 0,
  "metadata": {
    "colab": {
      "provenance": [],
      "authorship_tag": "ABX9TyOFdylORkfwC2I3dvUuQpZX",
      "include_colab_link": true
    },
    "kernelspec": {
      "name": "python3",
      "display_name": "Python 3"
    },
    "language_info": {
      "name": "python"
    }
  },
  "cells": [
    {
      "cell_type": "markdown",
      "metadata": {
        "id": "view-in-github",
        "colab_type": "text"
      },
      "source": [
        "<a href=\"https://colab.research.google.com/github/RoseJaisil/CNN/blob/main/1D_convolution.ipynb\" target=\"_parent\"><img src=\"https://colab.research.google.com/assets/colab-badge.svg\" alt=\"Open In Colab\"/></a>"
      ]
    },
    {
      "cell_type": "markdown",
      "source": [
        "# Import Libraries"
      ],
      "metadata": {
        "id": "EGwHtDCG2MXO"
      }
    },
    {
      "cell_type": "code",
      "source": [
        "import numpy as np"
      ],
      "metadata": {
        "id": "erokMrxF2Qhy"
      },
      "execution_count": 1,
      "outputs": []
    },
    {
      "cell_type": "markdown",
      "source": [
        "# Function for convolution\n"
      ],
      "metadata": {
        "id": "b5ekp_NA2VJY"
      }
    },
    {
      "cell_type": "code",
      "source": [
        "def conv1d(x, w, p=0, s=1):\n",
        "  \"\"\"\n",
        "  x - input image\n",
        "  w - weight matrix or filter or kernel\n",
        "  p - padding size \n",
        "  s - stride\n",
        "  \n",
        "  return res - the result of the convolution\n",
        "  \"\"\"\n",
        "\n",
        "  w_rot = np.array(w[::-1]) # rotate the filter and convert it into array\n",
        "  x_padded = np.array(x) # convert the list  into array\n",
        "\n",
        "  if p > 0:\n",
        "    zero_pad = np.zeros(shape=p)\n",
        "    x_padded = np.concatenate([zero_pad, x_padded, zero_pad]) # concatenate the array with zero array on both sides\n",
        "    res = [] # to collect the results\n",
        "\n",
        "  for i in range(0, int((len(x_padded) - len(w_rot)))+1, s):\n",
        "    # rememeber range(start, stop, step)\n",
        "    res.append(np.sum(x_padded[i:i+w_rot.shape[0]]*w_rot))\n",
        "\n",
        "  return np.array(res)\n"
      ],
      "metadata": {
        "id": "77FtydOE2SV8"
      },
      "execution_count": 8,
      "outputs": []
    },
    {
      "cell_type": "markdown",
      "source": [
        "# Testing"
      ],
      "metadata": {
        "id": "8UbO3BHU7YcC"
      }
    },
    {
      "cell_type": "code",
      "source": [
        "x = [1, 3, 2, 4, 5, 6, 1, 3] # input\n",
        "w = [1, 0, 3, 1, 2] # filter\n",
        "\n",
        "# custom built convolution function result\n",
        "print(\"conv1d implementation\",\n",
        "      conv1d(x, w, p=2, s =1))\n",
        "\n",
        "# numpy convolution\n",
        "print(\"numpy convolution\",\n",
        "      np.convolve(x, w, mode = 'same'))\n",
        "\n"
      ],
      "metadata": {
        "colab": {
          "base_uri": "https://localhost:8080/"
        },
        "id": "DYtpDCOe7ZIm",
        "outputId": "152cfdfb-4d92-4f79-b077-c4a3e4a0c02f"
      },
      "execution_count": 9,
      "outputs": [
        {
          "output_type": "stream",
          "name": "stdout",
          "text": [
            "conv1d implementation [ 5. 14. 16. 26. 24. 34. 19. 22.]\n",
            "numpy convolution [ 5 14 16 26 24 34 19 22]\n"
          ]
        }
      ]
    }
  ]
}