{
  "nbformat": 4,
  "nbformat_minor": 0,
  "metadata": {
    "colab": {
      "provenance": [],
      "authorship_tag": "ABX9TyMPzGVZf+UFw2VDOthjfWnJ",
      "include_colab_link": true
    },
    "kernelspec": {
      "name": "python3",
      "display_name": "Python 3"
    },
    "language_info": {
      "name": "python"
    },
    "widgets": {
      "application/vnd.jupyter.widget-state+json": {
        "35d280618a5841088367c98f8bbebfeb": {
          "model_module": "@jupyter-widgets/controls",
          "model_name": "HBoxModel",
          "model_module_version": "1.5.0",
          "state": {
            "_dom_classes": [],
            "_model_module": "@jupyter-widgets/controls",
            "_model_module_version": "1.5.0",
            "_model_name": "HBoxModel",
            "_view_count": null,
            "_view_module": "@jupyter-widgets/controls",
            "_view_module_version": "1.5.0",
            "_view_name": "HBoxView",
            "box_style": "",
            "children": [
              "IPY_MODEL_e4a36ab56a0448eb93f321cef0e00bc5",
              "IPY_MODEL_dc963adf0f14419a87148b34d7575a8c",
              "IPY_MODEL_1f958fc0f699433e8c51cb730ae24f8f"
            ],
            "layout": "IPY_MODEL_8fde3b1c95f24727a9bcbfcd24740f5d"
          }
        },
        "e4a36ab56a0448eb93f321cef0e00bc5": {
          "model_module": "@jupyter-widgets/controls",
          "model_name": "HTMLModel",
          "model_module_version": "1.5.0",
          "state": {
            "_dom_classes": [],
            "_model_module": "@jupyter-widgets/controls",
            "_model_module_version": "1.5.0",
            "_model_name": "HTMLModel",
            "_view_count": null,
            "_view_module": "@jupyter-widgets/controls",
            "_view_module_version": "1.5.0",
            "_view_name": "HTMLView",
            "description": "",
            "description_tooltip": null,
            "layout": "IPY_MODEL_e036d335189d4cb599212abfa2c716ca",
            "placeholder": "​",
            "style": "IPY_MODEL_ff3230230a5a48f4a2a9671fb66be679",
            "value": "100%"
          }
        },
        "dc963adf0f14419a87148b34d7575a8c": {
          "model_module": "@jupyter-widgets/controls",
          "model_name": "FloatProgressModel",
          "model_module_version": "1.5.0",
          "state": {
            "_dom_classes": [],
            "_model_module": "@jupyter-widgets/controls",
            "_model_module_version": "1.5.0",
            "_model_name": "FloatProgressModel",
            "_view_count": null,
            "_view_module": "@jupyter-widgets/controls",
            "_view_module_version": "1.5.0",
            "_view_name": "ProgressView",
            "bar_style": "success",
            "description": "",
            "description_tooltip": null,
            "layout": "IPY_MODEL_29938ff0acbd494db2f26991384c930f",
            "max": 9912422,
            "min": 0,
            "orientation": "horizontal",
            "style": "IPY_MODEL_4fc04d9f966444b2a58aac8b0f04c9fb",
            "value": 9912422
          }
        },
        "1f958fc0f699433e8c51cb730ae24f8f": {
          "model_module": "@jupyter-widgets/controls",
          "model_name": "HTMLModel",
          "model_module_version": "1.5.0",
          "state": {
            "_dom_classes": [],
            "_model_module": "@jupyter-widgets/controls",
            "_model_module_version": "1.5.0",
            "_model_name": "HTMLModel",
            "_view_count": null,
            "_view_module": "@jupyter-widgets/controls",
            "_view_module_version": "1.5.0",
            "_view_name": "HTMLView",
            "description": "",
            "description_tooltip": null,
            "layout": "IPY_MODEL_3927dfeb390d4effb24e99bdb32d39e9",
            "placeholder": "​",
            "style": "IPY_MODEL_a8d3cf26dce54a6fa91859f355098cfd",
            "value": " 9912422/9912422 [00:00&lt;00:00, 137884332.51it/s]"
          }
        },
        "8fde3b1c95f24727a9bcbfcd24740f5d": {
          "model_module": "@jupyter-widgets/base",
          "model_name": "LayoutModel",
          "model_module_version": "1.2.0",
          "state": {
            "_model_module": "@jupyter-widgets/base",
            "_model_module_version": "1.2.0",
            "_model_name": "LayoutModel",
            "_view_count": null,
            "_view_module": "@jupyter-widgets/base",
            "_view_module_version": "1.2.0",
            "_view_name": "LayoutView",
            "align_content": null,
            "align_items": null,
            "align_self": null,
            "border": null,
            "bottom": null,
            "display": null,
            "flex": null,
            "flex_flow": null,
            "grid_area": null,
            "grid_auto_columns": null,
            "grid_auto_flow": null,
            "grid_auto_rows": null,
            "grid_column": null,
            "grid_gap": null,
            "grid_row": null,
            "grid_template_areas": null,
            "grid_template_columns": null,
            "grid_template_rows": null,
            "height": null,
            "justify_content": null,
            "justify_items": null,
            "left": null,
            "margin": null,
            "max_height": null,
            "max_width": null,
            "min_height": null,
            "min_width": null,
            "object_fit": null,
            "object_position": null,
            "order": null,
            "overflow": null,
            "overflow_x": null,
            "overflow_y": null,
            "padding": null,
            "right": null,
            "top": null,
            "visibility": null,
            "width": null
          }
        },
        "e036d335189d4cb599212abfa2c716ca": {
          "model_module": "@jupyter-widgets/base",
          "model_name": "LayoutModel",
          "model_module_version": "1.2.0",
          "state": {
            "_model_module": "@jupyter-widgets/base",
            "_model_module_version": "1.2.0",
            "_model_name": "LayoutModel",
            "_view_count": null,
            "_view_module": "@jupyter-widgets/base",
            "_view_module_version": "1.2.0",
            "_view_name": "LayoutView",
            "align_content": null,
            "align_items": null,
            "align_self": null,
            "border": null,
            "bottom": null,
            "display": null,
            "flex": null,
            "flex_flow": null,
            "grid_area": null,
            "grid_auto_columns": null,
            "grid_auto_flow": null,
            "grid_auto_rows": null,
            "grid_column": null,
            "grid_gap": null,
            "grid_row": null,
            "grid_template_areas": null,
            "grid_template_columns": null,
            "grid_template_rows": null,
            "height": null,
            "justify_content": null,
            "justify_items": null,
            "left": null,
            "margin": null,
            "max_height": null,
            "max_width": null,
            "min_height": null,
            "min_width": null,
            "object_fit": null,
            "object_position": null,
            "order": null,
            "overflow": null,
            "overflow_x": null,
            "overflow_y": null,
            "padding": null,
            "right": null,
            "top": null,
            "visibility": null,
            "width": null
          }
        },
        "ff3230230a5a48f4a2a9671fb66be679": {
          "model_module": "@jupyter-widgets/controls",
          "model_name": "DescriptionStyleModel",
          "model_module_version": "1.5.0",
          "state": {
            "_model_module": "@jupyter-widgets/controls",
            "_model_module_version": "1.5.0",
            "_model_name": "DescriptionStyleModel",
            "_view_count": null,
            "_view_module": "@jupyter-widgets/base",
            "_view_module_version": "1.2.0",
            "_view_name": "StyleView",
            "description_width": ""
          }
        },
        "29938ff0acbd494db2f26991384c930f": {
          "model_module": "@jupyter-widgets/base",
          "model_name": "LayoutModel",
          "model_module_version": "1.2.0",
          "state": {
            "_model_module": "@jupyter-widgets/base",
            "_model_module_version": "1.2.0",
            "_model_name": "LayoutModel",
            "_view_count": null,
            "_view_module": "@jupyter-widgets/base",
            "_view_module_version": "1.2.0",
            "_view_name": "LayoutView",
            "align_content": null,
            "align_items": null,
            "align_self": null,
            "border": null,
            "bottom": null,
            "display": null,
            "flex": null,
            "flex_flow": null,
            "grid_area": null,
            "grid_auto_columns": null,
            "grid_auto_flow": null,
            "grid_auto_rows": null,
            "grid_column": null,
            "grid_gap": null,
            "grid_row": null,
            "grid_template_areas": null,
            "grid_template_columns": null,
            "grid_template_rows": null,
            "height": null,
            "justify_content": null,
            "justify_items": null,
            "left": null,
            "margin": null,
            "max_height": null,
            "max_width": null,
            "min_height": null,
            "min_width": null,
            "object_fit": null,
            "object_position": null,
            "order": null,
            "overflow": null,
            "overflow_x": null,
            "overflow_y": null,
            "padding": null,
            "right": null,
            "top": null,
            "visibility": null,
            "width": null
          }
        },
        "4fc04d9f966444b2a58aac8b0f04c9fb": {
          "model_module": "@jupyter-widgets/controls",
          "model_name": "ProgressStyleModel",
          "model_module_version": "1.5.0",
          "state": {
            "_model_module": "@jupyter-widgets/controls",
            "_model_module_version": "1.5.0",
            "_model_name": "ProgressStyleModel",
            "_view_count": null,
            "_view_module": "@jupyter-widgets/base",
            "_view_module_version": "1.2.0",
            "_view_name": "StyleView",
            "bar_color": null,
            "description_width": ""
          }
        },
        "3927dfeb390d4effb24e99bdb32d39e9": {
          "model_module": "@jupyter-widgets/base",
          "model_name": "LayoutModel",
          "model_module_version": "1.2.0",
          "state": {
            "_model_module": "@jupyter-widgets/base",
            "_model_module_version": "1.2.0",
            "_model_name": "LayoutModel",
            "_view_count": null,
            "_view_module": "@jupyter-widgets/base",
            "_view_module_version": "1.2.0",
            "_view_name": "LayoutView",
            "align_content": null,
            "align_items": null,
            "align_self": null,
            "border": null,
            "bottom": null,
            "display": null,
            "flex": null,
            "flex_flow": null,
            "grid_area": null,
            "grid_auto_columns": null,
            "grid_auto_flow": null,
            "grid_auto_rows": null,
            "grid_column": null,
            "grid_gap": null,
            "grid_row": null,
            "grid_template_areas": null,
            "grid_template_columns": null,
            "grid_template_rows": null,
            "height": null,
            "justify_content": null,
            "justify_items": null,
            "left": null,
            "margin": null,
            "max_height": null,
            "max_width": null,
            "min_height": null,
            "min_width": null,
            "object_fit": null,
            "object_position": null,
            "order": null,
            "overflow": null,
            "overflow_x": null,
            "overflow_y": null,
            "padding": null,
            "right": null,
            "top": null,
            "visibility": null,
            "width": null
          }
        },
        "a8d3cf26dce54a6fa91859f355098cfd": {
          "model_module": "@jupyter-widgets/controls",
          "model_name": "DescriptionStyleModel",
          "model_module_version": "1.5.0",
          "state": {
            "_model_module": "@jupyter-widgets/controls",
            "_model_module_version": "1.5.0",
            "_model_name": "DescriptionStyleModel",
            "_view_count": null,
            "_view_module": "@jupyter-widgets/base",
            "_view_module_version": "1.2.0",
            "_view_name": "StyleView",
            "description_width": ""
          }
        },
        "84175d6c29de47f0a7fda439a3ff5165": {
          "model_module": "@jupyter-widgets/controls",
          "model_name": "HBoxModel",
          "model_module_version": "1.5.0",
          "state": {
            "_dom_classes": [],
            "_model_module": "@jupyter-widgets/controls",
            "_model_module_version": "1.5.0",
            "_model_name": "HBoxModel",
            "_view_count": null,
            "_view_module": "@jupyter-widgets/controls",
            "_view_module_version": "1.5.0",
            "_view_name": "HBoxView",
            "box_style": "",
            "children": [
              "IPY_MODEL_6ee1beb9a6484d73ac6461ac338070e7",
              "IPY_MODEL_71cb266e10a743728283f30c596ea54b",
              "IPY_MODEL_7da67f7857ed4140ad57fa149e06c525"
            ],
            "layout": "IPY_MODEL_7095e6d98a51496aa3566ca8741f842a"
          }
        },
        "6ee1beb9a6484d73ac6461ac338070e7": {
          "model_module": "@jupyter-widgets/controls",
          "model_name": "HTMLModel",
          "model_module_version": "1.5.0",
          "state": {
            "_dom_classes": [],
            "_model_module": "@jupyter-widgets/controls",
            "_model_module_version": "1.5.0",
            "_model_name": "HTMLModel",
            "_view_count": null,
            "_view_module": "@jupyter-widgets/controls",
            "_view_module_version": "1.5.0",
            "_view_name": "HTMLView",
            "description": "",
            "description_tooltip": null,
            "layout": "IPY_MODEL_637755d76f414114a024b58155c5d0da",
            "placeholder": "​",
            "style": "IPY_MODEL_f3ea87864c154e8693c17598a13820a3",
            "value": "100%"
          }
        },
        "71cb266e10a743728283f30c596ea54b": {
          "model_module": "@jupyter-widgets/controls",
          "model_name": "FloatProgressModel",
          "model_module_version": "1.5.0",
          "state": {
            "_dom_classes": [],
            "_model_module": "@jupyter-widgets/controls",
            "_model_module_version": "1.5.0",
            "_model_name": "FloatProgressModel",
            "_view_count": null,
            "_view_module": "@jupyter-widgets/controls",
            "_view_module_version": "1.5.0",
            "_view_name": "ProgressView",
            "bar_style": "success",
            "description": "",
            "description_tooltip": null,
            "layout": "IPY_MODEL_37f43b90a35b48c286a5041ad899e7ee",
            "max": 28881,
            "min": 0,
            "orientation": "horizontal",
            "style": "IPY_MODEL_edf59a90a20e4f11b49a8e6514ccb002",
            "value": 28881
          }
        },
        "7da67f7857ed4140ad57fa149e06c525": {
          "model_module": "@jupyter-widgets/controls",
          "model_name": "HTMLModel",
          "model_module_version": "1.5.0",
          "state": {
            "_dom_classes": [],
            "_model_module": "@jupyter-widgets/controls",
            "_model_module_version": "1.5.0",
            "_model_name": "HTMLModel",
            "_view_count": null,
            "_view_module": "@jupyter-widgets/controls",
            "_view_module_version": "1.5.0",
            "_view_name": "HTMLView",
            "description": "",
            "description_tooltip": null,
            "layout": "IPY_MODEL_8f6a14bbd0d3404abf66fa14c2c1d720",
            "placeholder": "​",
            "style": "IPY_MODEL_02332805143d4316882803e9367fa817",
            "value": " 28881/28881 [00:00&lt;00:00, 1520200.97it/s]"
          }
        },
        "7095e6d98a51496aa3566ca8741f842a": {
          "model_module": "@jupyter-widgets/base",
          "model_name": "LayoutModel",
          "model_module_version": "1.2.0",
          "state": {
            "_model_module": "@jupyter-widgets/base",
            "_model_module_version": "1.2.0",
            "_model_name": "LayoutModel",
            "_view_count": null,
            "_view_module": "@jupyter-widgets/base",
            "_view_module_version": "1.2.0",
            "_view_name": "LayoutView",
            "align_content": null,
            "align_items": null,
            "align_self": null,
            "border": null,
            "bottom": null,
            "display": null,
            "flex": null,
            "flex_flow": null,
            "grid_area": null,
            "grid_auto_columns": null,
            "grid_auto_flow": null,
            "grid_auto_rows": null,
            "grid_column": null,
            "grid_gap": null,
            "grid_row": null,
            "grid_template_areas": null,
            "grid_template_columns": null,
            "grid_template_rows": null,
            "height": null,
            "justify_content": null,
            "justify_items": null,
            "left": null,
            "margin": null,
            "max_height": null,
            "max_width": null,
            "min_height": null,
            "min_width": null,
            "object_fit": null,
            "object_position": null,
            "order": null,
            "overflow": null,
            "overflow_x": null,
            "overflow_y": null,
            "padding": null,
            "right": null,
            "top": null,
            "visibility": null,
            "width": null
          }
        },
        "637755d76f414114a024b58155c5d0da": {
          "model_module": "@jupyter-widgets/base",
          "model_name": "LayoutModel",
          "model_module_version": "1.2.0",
          "state": {
            "_model_module": "@jupyter-widgets/base",
            "_model_module_version": "1.2.0",
            "_model_name": "LayoutModel",
            "_view_count": null,
            "_view_module": "@jupyter-widgets/base",
            "_view_module_version": "1.2.0",
            "_view_name": "LayoutView",
            "align_content": null,
            "align_items": null,
            "align_self": null,
            "border": null,
            "bottom": null,
            "display": null,
            "flex": null,
            "flex_flow": null,
            "grid_area": null,
            "grid_auto_columns": null,
            "grid_auto_flow": null,
            "grid_auto_rows": null,
            "grid_column": null,
            "grid_gap": null,
            "grid_row": null,
            "grid_template_areas": null,
            "grid_template_columns": null,
            "grid_template_rows": null,
            "height": null,
            "justify_content": null,
            "justify_items": null,
            "left": null,
            "margin": null,
            "max_height": null,
            "max_width": null,
            "min_height": null,
            "min_width": null,
            "object_fit": null,
            "object_position": null,
            "order": null,
            "overflow": null,
            "overflow_x": null,
            "overflow_y": null,
            "padding": null,
            "right": null,
            "top": null,
            "visibility": null,
            "width": null
          }
        },
        "f3ea87864c154e8693c17598a13820a3": {
          "model_module": "@jupyter-widgets/controls",
          "model_name": "DescriptionStyleModel",
          "model_module_version": "1.5.0",
          "state": {
            "_model_module": "@jupyter-widgets/controls",
            "_model_module_version": "1.5.0",
            "_model_name": "DescriptionStyleModel",
            "_view_count": null,
            "_view_module": "@jupyter-widgets/base",
            "_view_module_version": "1.2.0",
            "_view_name": "StyleView",
            "description_width": ""
          }
        },
        "37f43b90a35b48c286a5041ad899e7ee": {
          "model_module": "@jupyter-widgets/base",
          "model_name": "LayoutModel",
          "model_module_version": "1.2.0",
          "state": {
            "_model_module": "@jupyter-widgets/base",
            "_model_module_version": "1.2.0",
            "_model_name": "LayoutModel",
            "_view_count": null,
            "_view_module": "@jupyter-widgets/base",
            "_view_module_version": "1.2.0",
            "_view_name": "LayoutView",
            "align_content": null,
            "align_items": null,
            "align_self": null,
            "border": null,
            "bottom": null,
            "display": null,
            "flex": null,
            "flex_flow": null,
            "grid_area": null,
            "grid_auto_columns": null,
            "grid_auto_flow": null,
            "grid_auto_rows": null,
            "grid_column": null,
            "grid_gap": null,
            "grid_row": null,
            "grid_template_areas": null,
            "grid_template_columns": null,
            "grid_template_rows": null,
            "height": null,
            "justify_content": null,
            "justify_items": null,
            "left": null,
            "margin": null,
            "max_height": null,
            "max_width": null,
            "min_height": null,
            "min_width": null,
            "object_fit": null,
            "object_position": null,
            "order": null,
            "overflow": null,
            "overflow_x": null,
            "overflow_y": null,
            "padding": null,
            "right": null,
            "top": null,
            "visibility": null,
            "width": null
          }
        },
        "edf59a90a20e4f11b49a8e6514ccb002": {
          "model_module": "@jupyter-widgets/controls",
          "model_name": "ProgressStyleModel",
          "model_module_version": "1.5.0",
          "state": {
            "_model_module": "@jupyter-widgets/controls",
            "_model_module_version": "1.5.0",
            "_model_name": "ProgressStyleModel",
            "_view_count": null,
            "_view_module": "@jupyter-widgets/base",
            "_view_module_version": "1.2.0",
            "_view_name": "StyleView",
            "bar_color": null,
            "description_width": ""
          }
        },
        "8f6a14bbd0d3404abf66fa14c2c1d720": {
          "model_module": "@jupyter-widgets/base",
          "model_name": "LayoutModel",
          "model_module_version": "1.2.0",
          "state": {
            "_model_module": "@jupyter-widgets/base",
            "_model_module_version": "1.2.0",
            "_model_name": "LayoutModel",
            "_view_count": null,
            "_view_module": "@jupyter-widgets/base",
            "_view_module_version": "1.2.0",
            "_view_name": "LayoutView",
            "align_content": null,
            "align_items": null,
            "align_self": null,
            "border": null,
            "bottom": null,
            "display": null,
            "flex": null,
            "flex_flow": null,
            "grid_area": null,
            "grid_auto_columns": null,
            "grid_auto_flow": null,
            "grid_auto_rows": null,
            "grid_column": null,
            "grid_gap": null,
            "grid_row": null,
            "grid_template_areas": null,
            "grid_template_columns": null,
            "grid_template_rows": null,
            "height": null,
            "justify_content": null,
            "justify_items": null,
            "left": null,
            "margin": null,
            "max_height": null,
            "max_width": null,
            "min_height": null,
            "min_width": null,
            "object_fit": null,
            "object_position": null,
            "order": null,
            "overflow": null,
            "overflow_x": null,
            "overflow_y": null,
            "padding": null,
            "right": null,
            "top": null,
            "visibility": null,
            "width": null
          }
        },
        "02332805143d4316882803e9367fa817": {
          "model_module": "@jupyter-widgets/controls",
          "model_name": "DescriptionStyleModel",
          "model_module_version": "1.5.0",
          "state": {
            "_model_module": "@jupyter-widgets/controls",
            "_model_module_version": "1.5.0",
            "_model_name": "DescriptionStyleModel",
            "_view_count": null,
            "_view_module": "@jupyter-widgets/base",
            "_view_module_version": "1.2.0",
            "_view_name": "StyleView",
            "description_width": ""
          }
        },
        "df2887e839b04468b422a7990f589efc": {
          "model_module": "@jupyter-widgets/controls",
          "model_name": "HBoxModel",
          "model_module_version": "1.5.0",
          "state": {
            "_dom_classes": [],
            "_model_module": "@jupyter-widgets/controls",
            "_model_module_version": "1.5.0",
            "_model_name": "HBoxModel",
            "_view_count": null,
            "_view_module": "@jupyter-widgets/controls",
            "_view_module_version": "1.5.0",
            "_view_name": "HBoxView",
            "box_style": "",
            "children": [
              "IPY_MODEL_eefcd088670e4b2d9ec8b33c14161a6a",
              "IPY_MODEL_c349b12a752b4f43b486a919b3f2f6a9",
              "IPY_MODEL_0acd8c89c5d34c1ba77152ec11b3b335"
            ],
            "layout": "IPY_MODEL_a5e543fd0fe24c54a2a9482782a60014"
          }
        },
        "eefcd088670e4b2d9ec8b33c14161a6a": {
          "model_module": "@jupyter-widgets/controls",
          "model_name": "HTMLModel",
          "model_module_version": "1.5.0",
          "state": {
            "_dom_classes": [],
            "_model_module": "@jupyter-widgets/controls",
            "_model_module_version": "1.5.0",
            "_model_name": "HTMLModel",
            "_view_count": null,
            "_view_module": "@jupyter-widgets/controls",
            "_view_module_version": "1.5.0",
            "_view_name": "HTMLView",
            "description": "",
            "description_tooltip": null,
            "layout": "IPY_MODEL_8a6b7ed7f04040448f5adcbb246444ed",
            "placeholder": "​",
            "style": "IPY_MODEL_ec38047f7aa14066b9eada1f45660a5c",
            "value": "100%"
          }
        },
        "c349b12a752b4f43b486a919b3f2f6a9": {
          "model_module": "@jupyter-widgets/controls",
          "model_name": "FloatProgressModel",
          "model_module_version": "1.5.0",
          "state": {
            "_dom_classes": [],
            "_model_module": "@jupyter-widgets/controls",
            "_model_module_version": "1.5.0",
            "_model_name": "FloatProgressModel",
            "_view_count": null,
            "_view_module": "@jupyter-widgets/controls",
            "_view_module_version": "1.5.0",
            "_view_name": "ProgressView",
            "bar_style": "success",
            "description": "",
            "description_tooltip": null,
            "layout": "IPY_MODEL_e86e48441d4940a09c85ac3f686928f7",
            "max": 1648877,
            "min": 0,
            "orientation": "horizontal",
            "style": "IPY_MODEL_965b19af0f0e4772b614a2c4f4ad3603",
            "value": 1648877
          }
        },
        "0acd8c89c5d34c1ba77152ec11b3b335": {
          "model_module": "@jupyter-widgets/controls",
          "model_name": "HTMLModel",
          "model_module_version": "1.5.0",
          "state": {
            "_dom_classes": [],
            "_model_module": "@jupyter-widgets/controls",
            "_model_module_version": "1.5.0",
            "_model_name": "HTMLModel",
            "_view_count": null,
            "_view_module": "@jupyter-widgets/controls",
            "_view_module_version": "1.5.0",
            "_view_name": "HTMLView",
            "description": "",
            "description_tooltip": null,
            "layout": "IPY_MODEL_e843fd52baf7420ca29d1ce2361d8628",
            "placeholder": "​",
            "style": "IPY_MODEL_cae496b546774b0ba38a2196f8a0fff0",
            "value": " 1648877/1648877 [00:00&lt;00:00, 35189287.33it/s]"
          }
        },
        "a5e543fd0fe24c54a2a9482782a60014": {
          "model_module": "@jupyter-widgets/base",
          "model_name": "LayoutModel",
          "model_module_version": "1.2.0",
          "state": {
            "_model_module": "@jupyter-widgets/base",
            "_model_module_version": "1.2.0",
            "_model_name": "LayoutModel",
            "_view_count": null,
            "_view_module": "@jupyter-widgets/base",
            "_view_module_version": "1.2.0",
            "_view_name": "LayoutView",
            "align_content": null,
            "align_items": null,
            "align_self": null,
            "border": null,
            "bottom": null,
            "display": null,
            "flex": null,
            "flex_flow": null,
            "grid_area": null,
            "grid_auto_columns": null,
            "grid_auto_flow": null,
            "grid_auto_rows": null,
            "grid_column": null,
            "grid_gap": null,
            "grid_row": null,
            "grid_template_areas": null,
            "grid_template_columns": null,
            "grid_template_rows": null,
            "height": null,
            "justify_content": null,
            "justify_items": null,
            "left": null,
            "margin": null,
            "max_height": null,
            "max_width": null,
            "min_height": null,
            "min_width": null,
            "object_fit": null,
            "object_position": null,
            "order": null,
            "overflow": null,
            "overflow_x": null,
            "overflow_y": null,
            "padding": null,
            "right": null,
            "top": null,
            "visibility": null,
            "width": null
          }
        },
        "8a6b7ed7f04040448f5adcbb246444ed": {
          "model_module": "@jupyter-widgets/base",
          "model_name": "LayoutModel",
          "model_module_version": "1.2.0",
          "state": {
            "_model_module": "@jupyter-widgets/base",
            "_model_module_version": "1.2.0",
            "_model_name": "LayoutModel",
            "_view_count": null,
            "_view_module": "@jupyter-widgets/base",
            "_view_module_version": "1.2.0",
            "_view_name": "LayoutView",
            "align_content": null,
            "align_items": null,
            "align_self": null,
            "border": null,
            "bottom": null,
            "display": null,
            "flex": null,
            "flex_flow": null,
            "grid_area": null,
            "grid_auto_columns": null,
            "grid_auto_flow": null,
            "grid_auto_rows": null,
            "grid_column": null,
            "grid_gap": null,
            "grid_row": null,
            "grid_template_areas": null,
            "grid_template_columns": null,
            "grid_template_rows": null,
            "height": null,
            "justify_content": null,
            "justify_items": null,
            "left": null,
            "margin": null,
            "max_height": null,
            "max_width": null,
            "min_height": null,
            "min_width": null,
            "object_fit": null,
            "object_position": null,
            "order": null,
            "overflow": null,
            "overflow_x": null,
            "overflow_y": null,
            "padding": null,
            "right": null,
            "top": null,
            "visibility": null,
            "width": null
          }
        },
        "ec38047f7aa14066b9eada1f45660a5c": {
          "model_module": "@jupyter-widgets/controls",
          "model_name": "DescriptionStyleModel",
          "model_module_version": "1.5.0",
          "state": {
            "_model_module": "@jupyter-widgets/controls",
            "_model_module_version": "1.5.0",
            "_model_name": "DescriptionStyleModel",
            "_view_count": null,
            "_view_module": "@jupyter-widgets/base",
            "_view_module_version": "1.2.0",
            "_view_name": "StyleView",
            "description_width": ""
          }
        },
        "e86e48441d4940a09c85ac3f686928f7": {
          "model_module": "@jupyter-widgets/base",
          "model_name": "LayoutModel",
          "model_module_version": "1.2.0",
          "state": {
            "_model_module": "@jupyter-widgets/base",
            "_model_module_version": "1.2.0",
            "_model_name": "LayoutModel",
            "_view_count": null,
            "_view_module": "@jupyter-widgets/base",
            "_view_module_version": "1.2.0",
            "_view_name": "LayoutView",
            "align_content": null,
            "align_items": null,
            "align_self": null,
            "border": null,
            "bottom": null,
            "display": null,
            "flex": null,
            "flex_flow": null,
            "grid_area": null,
            "grid_auto_columns": null,
            "grid_auto_flow": null,
            "grid_auto_rows": null,
            "grid_column": null,
            "grid_gap": null,
            "grid_row": null,
            "grid_template_areas": null,
            "grid_template_columns": null,
            "grid_template_rows": null,
            "height": null,
            "justify_content": null,
            "justify_items": null,
            "left": null,
            "margin": null,
            "max_height": null,
            "max_width": null,
            "min_height": null,
            "min_width": null,
            "object_fit": null,
            "object_position": null,
            "order": null,
            "overflow": null,
            "overflow_x": null,
            "overflow_y": null,
            "padding": null,
            "right": null,
            "top": null,
            "visibility": null,
            "width": null
          }
        },
        "965b19af0f0e4772b614a2c4f4ad3603": {
          "model_module": "@jupyter-widgets/controls",
          "model_name": "ProgressStyleModel",
          "model_module_version": "1.5.0",
          "state": {
            "_model_module": "@jupyter-widgets/controls",
            "_model_module_version": "1.5.0",
            "_model_name": "ProgressStyleModel",
            "_view_count": null,
            "_view_module": "@jupyter-widgets/base",
            "_view_module_version": "1.2.0",
            "_view_name": "StyleView",
            "bar_color": null,
            "description_width": ""
          }
        },
        "e843fd52baf7420ca29d1ce2361d8628": {
          "model_module": "@jupyter-widgets/base",
          "model_name": "LayoutModel",
          "model_module_version": "1.2.0",
          "state": {
            "_model_module": "@jupyter-widgets/base",
            "_model_module_version": "1.2.0",
            "_model_name": "LayoutModel",
            "_view_count": null,
            "_view_module": "@jupyter-widgets/base",
            "_view_module_version": "1.2.0",
            "_view_name": "LayoutView",
            "align_content": null,
            "align_items": null,
            "align_self": null,
            "border": null,
            "bottom": null,
            "display": null,
            "flex": null,
            "flex_flow": null,
            "grid_area": null,
            "grid_auto_columns": null,
            "grid_auto_flow": null,
            "grid_auto_rows": null,
            "grid_column": null,
            "grid_gap": null,
            "grid_row": null,
            "grid_template_areas": null,
            "grid_template_columns": null,
            "grid_template_rows": null,
            "height": null,
            "justify_content": null,
            "justify_items": null,
            "left": null,
            "margin": null,
            "max_height": null,
            "max_width": null,
            "min_height": null,
            "min_width": null,
            "object_fit": null,
            "object_position": null,
            "order": null,
            "overflow": null,
            "overflow_x": null,
            "overflow_y": null,
            "padding": null,
            "right": null,
            "top": null,
            "visibility": null,
            "width": null
          }
        },
        "cae496b546774b0ba38a2196f8a0fff0": {
          "model_module": "@jupyter-widgets/controls",
          "model_name": "DescriptionStyleModel",
          "model_module_version": "1.5.0",
          "state": {
            "_model_module": "@jupyter-widgets/controls",
            "_model_module_version": "1.5.0",
            "_model_name": "DescriptionStyleModel",
            "_view_count": null,
            "_view_module": "@jupyter-widgets/base",
            "_view_module_version": "1.2.0",
            "_view_name": "StyleView",
            "description_width": ""
          }
        },
        "fef7a71ac181413fbe6e5166b0feda7e": {
          "model_module": "@jupyter-widgets/controls",
          "model_name": "HBoxModel",
          "model_module_version": "1.5.0",
          "state": {
            "_dom_classes": [],
            "_model_module": "@jupyter-widgets/controls",
            "_model_module_version": "1.5.0",
            "_model_name": "HBoxModel",
            "_view_count": null,
            "_view_module": "@jupyter-widgets/controls",
            "_view_module_version": "1.5.0",
            "_view_name": "HBoxView",
            "box_style": "",
            "children": [
              "IPY_MODEL_a8aefb8691a64852ba43244ae9e9d567",
              "IPY_MODEL_ad4cb5e17ef54e53ac341c797ea9b9c0",
              "IPY_MODEL_6730222ae3e94c0b8bd0f3c18e99b42f"
            ],
            "layout": "IPY_MODEL_1207433b434141b9b05a6aedbc2a3011"
          }
        },
        "a8aefb8691a64852ba43244ae9e9d567": {
          "model_module": "@jupyter-widgets/controls",
          "model_name": "HTMLModel",
          "model_module_version": "1.5.0",
          "state": {
            "_dom_classes": [],
            "_model_module": "@jupyter-widgets/controls",
            "_model_module_version": "1.5.0",
            "_model_name": "HTMLModel",
            "_view_count": null,
            "_view_module": "@jupyter-widgets/controls",
            "_view_module_version": "1.5.0",
            "_view_name": "HTMLView",
            "description": "",
            "description_tooltip": null,
            "layout": "IPY_MODEL_96a82d873a124c889d8b5b67116dbc8c",
            "placeholder": "​",
            "style": "IPY_MODEL_8df223cdb5bc448087ec8171142ec152",
            "value": "100%"
          }
        },
        "ad4cb5e17ef54e53ac341c797ea9b9c0": {
          "model_module": "@jupyter-widgets/controls",
          "model_name": "FloatProgressModel",
          "model_module_version": "1.5.0",
          "state": {
            "_dom_classes": [],
            "_model_module": "@jupyter-widgets/controls",
            "_model_module_version": "1.5.0",
            "_model_name": "FloatProgressModel",
            "_view_count": null,
            "_view_module": "@jupyter-widgets/controls",
            "_view_module_version": "1.5.0",
            "_view_name": "ProgressView",
            "bar_style": "success",
            "description": "",
            "description_tooltip": null,
            "layout": "IPY_MODEL_c7adf34cc43b45f8a126d5c202562635",
            "max": 4542,
            "min": 0,
            "orientation": "horizontal",
            "style": "IPY_MODEL_8c3bafb6a5104d96a2a538c5c4b14116",
            "value": 4542
          }
        },
        "6730222ae3e94c0b8bd0f3c18e99b42f": {
          "model_module": "@jupyter-widgets/controls",
          "model_name": "HTMLModel",
          "model_module_version": "1.5.0",
          "state": {
            "_dom_classes": [],
            "_model_module": "@jupyter-widgets/controls",
            "_model_module_version": "1.5.0",
            "_model_name": "HTMLModel",
            "_view_count": null,
            "_view_module": "@jupyter-widgets/controls",
            "_view_module_version": "1.5.0",
            "_view_name": "HTMLView",
            "description": "",
            "description_tooltip": null,
            "layout": "IPY_MODEL_3ef03beaf65547b2a44c46429d5ea465",
            "placeholder": "​",
            "style": "IPY_MODEL_3b3b186e1857445b8159cf3b9e2e7b07",
            "value": " 4542/4542 [00:00&lt;00:00, 282263.51it/s]"
          }
        },
        "1207433b434141b9b05a6aedbc2a3011": {
          "model_module": "@jupyter-widgets/base",
          "model_name": "LayoutModel",
          "model_module_version": "1.2.0",
          "state": {
            "_model_module": "@jupyter-widgets/base",
            "_model_module_version": "1.2.0",
            "_model_name": "LayoutModel",
            "_view_count": null,
            "_view_module": "@jupyter-widgets/base",
            "_view_module_version": "1.2.0",
            "_view_name": "LayoutView",
            "align_content": null,
            "align_items": null,
            "align_self": null,
            "border": null,
            "bottom": null,
            "display": null,
            "flex": null,
            "flex_flow": null,
            "grid_area": null,
            "grid_auto_columns": null,
            "grid_auto_flow": null,
            "grid_auto_rows": null,
            "grid_column": null,
            "grid_gap": null,
            "grid_row": null,
            "grid_template_areas": null,
            "grid_template_columns": null,
            "grid_template_rows": null,
            "height": null,
            "justify_content": null,
            "justify_items": null,
            "left": null,
            "margin": null,
            "max_height": null,
            "max_width": null,
            "min_height": null,
            "min_width": null,
            "object_fit": null,
            "object_position": null,
            "order": null,
            "overflow": null,
            "overflow_x": null,
            "overflow_y": null,
            "padding": null,
            "right": null,
            "top": null,
            "visibility": null,
            "width": null
          }
        },
        "96a82d873a124c889d8b5b67116dbc8c": {
          "model_module": "@jupyter-widgets/base",
          "model_name": "LayoutModel",
          "model_module_version": "1.2.0",
          "state": {
            "_model_module": "@jupyter-widgets/base",
            "_model_module_version": "1.2.0",
            "_model_name": "LayoutModel",
            "_view_count": null,
            "_view_module": "@jupyter-widgets/base",
            "_view_module_version": "1.2.0",
            "_view_name": "LayoutView",
            "align_content": null,
            "align_items": null,
            "align_self": null,
            "border": null,
            "bottom": null,
            "display": null,
            "flex": null,
            "flex_flow": null,
            "grid_area": null,
            "grid_auto_columns": null,
            "grid_auto_flow": null,
            "grid_auto_rows": null,
            "grid_column": null,
            "grid_gap": null,
            "grid_row": null,
            "grid_template_areas": null,
            "grid_template_columns": null,
            "grid_template_rows": null,
            "height": null,
            "justify_content": null,
            "justify_items": null,
            "left": null,
            "margin": null,
            "max_height": null,
            "max_width": null,
            "min_height": null,
            "min_width": null,
            "object_fit": null,
            "object_position": null,
            "order": null,
            "overflow": null,
            "overflow_x": null,
            "overflow_y": null,
            "padding": null,
            "right": null,
            "top": null,
            "visibility": null,
            "width": null
          }
        },
        "8df223cdb5bc448087ec8171142ec152": {
          "model_module": "@jupyter-widgets/controls",
          "model_name": "DescriptionStyleModel",
          "model_module_version": "1.5.0",
          "state": {
            "_model_module": "@jupyter-widgets/controls",
            "_model_module_version": "1.5.0",
            "_model_name": "DescriptionStyleModel",
            "_view_count": null,
            "_view_module": "@jupyter-widgets/base",
            "_view_module_version": "1.2.0",
            "_view_name": "StyleView",
            "description_width": ""
          }
        },
        "c7adf34cc43b45f8a126d5c202562635": {
          "model_module": "@jupyter-widgets/base",
          "model_name": "LayoutModel",
          "model_module_version": "1.2.0",
          "state": {
            "_model_module": "@jupyter-widgets/base",
            "_model_module_version": "1.2.0",
            "_model_name": "LayoutModel",
            "_view_count": null,
            "_view_module": "@jupyter-widgets/base",
            "_view_module_version": "1.2.0",
            "_view_name": "LayoutView",
            "align_content": null,
            "align_items": null,
            "align_self": null,
            "border": null,
            "bottom": null,
            "display": null,
            "flex": null,
            "flex_flow": null,
            "grid_area": null,
            "grid_auto_columns": null,
            "grid_auto_flow": null,
            "grid_auto_rows": null,
            "grid_column": null,
            "grid_gap": null,
            "grid_row": null,
            "grid_template_areas": null,
            "grid_template_columns": null,
            "grid_template_rows": null,
            "height": null,
            "justify_content": null,
            "justify_items": null,
            "left": null,
            "margin": null,
            "max_height": null,
            "max_width": null,
            "min_height": null,
            "min_width": null,
            "object_fit": null,
            "object_position": null,
            "order": null,
            "overflow": null,
            "overflow_x": null,
            "overflow_y": null,
            "padding": null,
            "right": null,
            "top": null,
            "visibility": null,
            "width": null
          }
        },
        "8c3bafb6a5104d96a2a538c5c4b14116": {
          "model_module": "@jupyter-widgets/controls",
          "model_name": "ProgressStyleModel",
          "model_module_version": "1.5.0",
          "state": {
            "_model_module": "@jupyter-widgets/controls",
            "_model_module_version": "1.5.0",
            "_model_name": "ProgressStyleModel",
            "_view_count": null,
            "_view_module": "@jupyter-widgets/base",
            "_view_module_version": "1.2.0",
            "_view_name": "StyleView",
            "bar_color": null,
            "description_width": ""
          }
        },
        "3ef03beaf65547b2a44c46429d5ea465": {
          "model_module": "@jupyter-widgets/base",
          "model_name": "LayoutModel",
          "model_module_version": "1.2.0",
          "state": {
            "_model_module": "@jupyter-widgets/base",
            "_model_module_version": "1.2.0",
            "_model_name": "LayoutModel",
            "_view_count": null,
            "_view_module": "@jupyter-widgets/base",
            "_view_module_version": "1.2.0",
            "_view_name": "LayoutView",
            "align_content": null,
            "align_items": null,
            "align_self": null,
            "border": null,
            "bottom": null,
            "display": null,
            "flex": null,
            "flex_flow": null,
            "grid_area": null,
            "grid_auto_columns": null,
            "grid_auto_flow": null,
            "grid_auto_rows": null,
            "grid_column": null,
            "grid_gap": null,
            "grid_row": null,
            "grid_template_areas": null,
            "grid_template_columns": null,
            "grid_template_rows": null,
            "height": null,
            "justify_content": null,
            "justify_items": null,
            "left": null,
            "margin": null,
            "max_height": null,
            "max_width": null,
            "min_height": null,
            "min_width": null,
            "object_fit": null,
            "object_position": null,
            "order": null,
            "overflow": null,
            "overflow_x": null,
            "overflow_y": null,
            "padding": null,
            "right": null,
            "top": null,
            "visibility": null,
            "width": null
          }
        },
        "3b3b186e1857445b8159cf3b9e2e7b07": {
          "model_module": "@jupyter-widgets/controls",
          "model_name": "DescriptionStyleModel",
          "model_module_version": "1.5.0",
          "state": {
            "_model_module": "@jupyter-widgets/controls",
            "_model_module_version": "1.5.0",
            "_model_name": "DescriptionStyleModel",
            "_view_count": null,
            "_view_module": "@jupyter-widgets/base",
            "_view_module_version": "1.2.0",
            "_view_name": "StyleView",
            "description_width": ""
          }
        }
      }
    }
  },
  "cells": [
    {
      "cell_type": "markdown",
      "metadata": {
        "id": "view-in-github",
        "colab_type": "text"
      },
      "source": [
        "<a href=\"https://colab.research.google.com/github/RoseJaisil/CNN/blob/main/Implementing_CNN_using_Pytorch_for_MNIST_dataset.ipynb\" target=\"_parent\"><img src=\"https://colab.research.google.com/assets/colab-badge.svg\" alt=\"Open In Colab\"/></a>"
      ]
    },
    {
      "cell_type": "markdown",
      "source": [
        "## CNN\n",
        "\n",
        "* Import libraries\n",
        "* Loading the dataset\n",
        "* Train/ val/ test split\n",
        "* Dataloader\n",
        "* Preprocessing\n",
        "* Constructing CNN until conv layers\n",
        "* Adding the remaining layers\n",
        "* Add loss function and optimizer\n",
        "* Check the number of feature maps at the last conv layer \n",
        "* Function for training\n",
        "* Training and validating for 20 epochs\n",
        "* Visualize the learning curves\n",
        "* Evaluate the trained model on the test\n",
        "* Images labeled with the output classification\n"
      ],
      "metadata": {
        "id": "zdyNtlFH7Hzd"
      }
    },
    {
      "cell_type": "markdown",
      "source": [
        "# Import necessary libraries"
      ],
      "metadata": {
        "id": "T8LxL7g87DwG"
      }
    },
    {
      "cell_type": "code",
      "execution_count": 41,
      "metadata": {
        "id": "VY2cIpRgWrtx"
      },
      "outputs": [],
      "source": [
        "import numpy as np\n",
        "import torchvision\n",
        "import torch\n",
        "import torch.nn as nn\n",
        "from torchvision import transforms\n",
        "from torch.utils.data import Subset\n",
        "from torch.utils.data import DataLoader\n",
        "import matplotlib.pyplot as plt"
      ]
    },
    {
      "cell_type": "markdown",
      "source": [
        "# Load the MNIST dataset"
      ],
      "metadata": {
        "id": "X6V0IYjO98Es"
      }
    },
    {
      "cell_type": "code",
      "source": [
        "image_path = './'\n",
        "transform = transforms.Compose([transforms.ToTensor()])\n",
        "mnist_dataset = torchvision.datasets.MNIST(root=image_path, train = True, transform=transform, download = True)"
      ],
      "metadata": {
        "colab": {
          "base_uri": "https://localhost:8080/",
          "height": 423,
          "referenced_widgets": [
            "35d280618a5841088367c98f8bbebfeb",
            "e4a36ab56a0448eb93f321cef0e00bc5",
            "dc963adf0f14419a87148b34d7575a8c",
            "1f958fc0f699433e8c51cb730ae24f8f",
            "8fde3b1c95f24727a9bcbfcd24740f5d",
            "e036d335189d4cb599212abfa2c716ca",
            "ff3230230a5a48f4a2a9671fb66be679",
            "29938ff0acbd494db2f26991384c930f",
            "4fc04d9f966444b2a58aac8b0f04c9fb",
            "3927dfeb390d4effb24e99bdb32d39e9",
            "a8d3cf26dce54a6fa91859f355098cfd",
            "84175d6c29de47f0a7fda439a3ff5165",
            "6ee1beb9a6484d73ac6461ac338070e7",
            "71cb266e10a743728283f30c596ea54b",
            "7da67f7857ed4140ad57fa149e06c525",
            "7095e6d98a51496aa3566ca8741f842a",
            "637755d76f414114a024b58155c5d0da",
            "f3ea87864c154e8693c17598a13820a3",
            "37f43b90a35b48c286a5041ad899e7ee",
            "edf59a90a20e4f11b49a8e6514ccb002",
            "8f6a14bbd0d3404abf66fa14c2c1d720",
            "02332805143d4316882803e9367fa817",
            "df2887e839b04468b422a7990f589efc",
            "eefcd088670e4b2d9ec8b33c14161a6a",
            "c349b12a752b4f43b486a919b3f2f6a9",
            "0acd8c89c5d34c1ba77152ec11b3b335",
            "a5e543fd0fe24c54a2a9482782a60014",
            "8a6b7ed7f04040448f5adcbb246444ed",
            "ec38047f7aa14066b9eada1f45660a5c",
            "e86e48441d4940a09c85ac3f686928f7",
            "965b19af0f0e4772b614a2c4f4ad3603",
            "e843fd52baf7420ca29d1ce2361d8628",
            "cae496b546774b0ba38a2196f8a0fff0",
            "fef7a71ac181413fbe6e5166b0feda7e",
            "a8aefb8691a64852ba43244ae9e9d567",
            "ad4cb5e17ef54e53ac341c797ea9b9c0",
            "6730222ae3e94c0b8bd0f3c18e99b42f",
            "1207433b434141b9b05a6aedbc2a3011",
            "96a82d873a124c889d8b5b67116dbc8c",
            "8df223cdb5bc448087ec8171142ec152",
            "c7adf34cc43b45f8a126d5c202562635",
            "8c3bafb6a5104d96a2a538c5c4b14116",
            "3ef03beaf65547b2a44c46429d5ea465",
            "3b3b186e1857445b8159cf3b9e2e7b07"
          ]
        },
        "id": "Mv9zU8P6-BaR",
        "outputId": "f70263ab-11ed-43cf-aef9-04723b7cd90e"
      },
      "execution_count": 3,
      "outputs": [
        {
          "output_type": "stream",
          "name": "stdout",
          "text": [
            "Downloading http://yann.lecun.com/exdb/mnist/train-images-idx3-ubyte.gz\n",
            "Downloading http://yann.lecun.com/exdb/mnist/train-images-idx3-ubyte.gz to ./MNIST/raw/train-images-idx3-ubyte.gz\n"
          ]
        },
        {
          "output_type": "display_data",
          "data": {
            "text/plain": [
              "  0%|          | 0/9912422 [00:00<?, ?it/s]"
            ],
            "application/vnd.jupyter.widget-view+json": {
              "version_major": 2,
              "version_minor": 0,
              "model_id": "35d280618a5841088367c98f8bbebfeb"
            }
          },
          "metadata": {}
        },
        {
          "output_type": "stream",
          "name": "stdout",
          "text": [
            "Extracting ./MNIST/raw/train-images-idx3-ubyte.gz to ./MNIST/raw\n",
            "\n",
            "Downloading http://yann.lecun.com/exdb/mnist/train-labels-idx1-ubyte.gz\n",
            "Downloading http://yann.lecun.com/exdb/mnist/train-labels-idx1-ubyte.gz to ./MNIST/raw/train-labels-idx1-ubyte.gz\n"
          ]
        },
        {
          "output_type": "display_data",
          "data": {
            "text/plain": [
              "  0%|          | 0/28881 [00:00<?, ?it/s]"
            ],
            "application/vnd.jupyter.widget-view+json": {
              "version_major": 2,
              "version_minor": 0,
              "model_id": "84175d6c29de47f0a7fda439a3ff5165"
            }
          },
          "metadata": {}
        },
        {
          "output_type": "stream",
          "name": "stdout",
          "text": [
            "Extracting ./MNIST/raw/train-labels-idx1-ubyte.gz to ./MNIST/raw\n",
            "\n",
            "Downloading http://yann.lecun.com/exdb/mnist/t10k-images-idx3-ubyte.gz\n",
            "Downloading http://yann.lecun.com/exdb/mnist/t10k-images-idx3-ubyte.gz to ./MNIST/raw/t10k-images-idx3-ubyte.gz\n"
          ]
        },
        {
          "output_type": "display_data",
          "data": {
            "text/plain": [
              "  0%|          | 0/1648877 [00:00<?, ?it/s]"
            ],
            "application/vnd.jupyter.widget-view+json": {
              "version_major": 2,
              "version_minor": 0,
              "model_id": "df2887e839b04468b422a7990f589efc"
            }
          },
          "metadata": {}
        },
        {
          "output_type": "stream",
          "name": "stdout",
          "text": [
            "Extracting ./MNIST/raw/t10k-images-idx3-ubyte.gz to ./MNIST/raw\n",
            "\n",
            "Downloading http://yann.lecun.com/exdb/mnist/t10k-labels-idx1-ubyte.gz\n",
            "Downloading http://yann.lecun.com/exdb/mnist/t10k-labels-idx1-ubyte.gz to ./MNIST/raw/t10k-labels-idx1-ubyte.gz\n"
          ]
        },
        {
          "output_type": "display_data",
          "data": {
            "text/plain": [
              "  0%|          | 0/4542 [00:00<?, ?it/s]"
            ],
            "application/vnd.jupyter.widget-view+json": {
              "version_major": 2,
              "version_minor": 0,
              "model_id": "fef7a71ac181413fbe6e5166b0feda7e"
            }
          },
          "metadata": {}
        },
        {
          "output_type": "stream",
          "name": "stdout",
          "text": [
            "Extracting ./MNIST/raw/t10k-labels-idx1-ubyte.gz to ./MNIST/raw\n",
            "\n"
          ]
        }
      ]
    },
    {
      "cell_type": "markdown",
      "source": [
        "# Train/ val/ test split"
      ],
      "metadata": {
        "id": "_NnWRNY0-xtv"
      }
    },
    {
      "cell_type": "code",
      "source": [
        "mnist_train = Subset(mnist_dataset, torch.arange(10000))\n",
        "mnist_valid = Subset(mnist_dataset, torch.arange(10000, len(mnist_dataset)))\n",
        "mnist_test = torchvision.datasets.MNIST(root=image_path, train=False, transform=transform, download=False)"
      ],
      "metadata": {
        "id": "EuG1N9r63R2i"
      },
      "execution_count": 32,
      "outputs": []
    },
    {
      "cell_type": "markdown",
      "source": [
        "# Dataloader (batch of 64 images for the training and the validation dataset)"
      ],
      "metadata": {
        "id": "hwSw7CUjAbRp"
      }
    },
    {
      "cell_type": "code",
      "source": [
        "batch_size = 64\n",
        "torch.manual_seed(1)\n",
        "train_d1 = DataLoader(mnist_train, \n",
        "                      batch_size,\n",
        "                      shuffle=True)\n",
        "valid_d1 = DataLoader(mnist_valid,\n",
        "                      batch_size,\n",
        "                      shuffle=False)"
      ],
      "metadata": {
        "id": "WZLOqlDpAygI"
      },
      "execution_count": 33,
      "outputs": []
    },
    {
      "cell_type": "markdown",
      "source": [
        "# Constructing CNN until conv layers"
      ],
      "metadata": {
        "id": "UwupjZLrB0_N"
      }
    },
    {
      "cell_type": "code",
      "source": [
        "model = nn.Sequential()\n",
        "# First set of convolution layer\n",
        "model.add_module(\n",
        "    'conv1',\n",
        "    nn.Conv2d(\n",
        "        in_channels=1, out_channels=32,\n",
        "        kernel_size=5,\n",
        "        padding=2\n",
        "    ))\n",
        "model.add_module('relu1', nn.ReLU())\n",
        "model.add_module('pool1', nn.MaxPool2d(kernel_size=2)) # pooling size of 2 reduces the dimension by half.\n",
        "\n",
        "# second set of convolution layer\n",
        "model.add_module(\n",
        "    'conv2',\n",
        "    nn.Conv2d(\n",
        "        in_channels=32,\n",
        "        out_channels=64,\n",
        "        kernel_size=5,\n",
        "        padding=2\n",
        "    ))\n",
        "model.add_module('relu2',nn.ReLU())\n",
        "model.add_module('pool2',nn.MaxPool2d(kernel_size=2))"
      ],
      "metadata": {
        "id": "Z_n5T_mjBu05"
      },
      "execution_count": 34,
      "outputs": []
    },
    {
      "cell_type": "markdown",
      "source": [
        "# Adding the remaining layers"
      ],
      "metadata": {
        "id": "SQoBGArqL_vP"
      }
    },
    {
      "cell_type": "code",
      "source": [
        "# flatten layer with dim (batch, no. of units)\n",
        "model.add_module(\"flatten\", nn.Flatten())\n",
        "\n",
        "# Two fully connected layers\n",
        "model.add_module('fc1', nn.Linear(3136, 1024))\n",
        "model.add_module('relu3', nn.ReLU())\n",
        "model.add_module('dropout', nn.Dropout(p=0.5))\n",
        "model.add_module('fc2', nn.Linear(1024,10 ))"
      ],
      "metadata": {
        "id": "uEWbBgBBMDbV"
      },
      "execution_count": 35,
      "outputs": []
    },
    {
      "cell_type": "markdown",
      "source": [
        "# Check the number of feature maps at the last conv layer \n",
        "Note: Not a part of the model. This cell is just to check the dimensions as you stack layers.\n"
      ],
      "metadata": {
        "id": "WhA8yDtcLEOL"
      }
    },
    {
      "cell_type": "code",
      "source": [
        "x = torch.ones([4,1,28,28])\n",
        "model(x).shape"
      ],
      "metadata": {
        "colab": {
          "base_uri": "https://localhost:8080/"
        },
        "id": "4TPA9Yh8JwdY",
        "outputId": "1b7de207-f106-4cfc-86bd-711f81fa0acf"
      },
      "execution_count": 36,
      "outputs": [
        {
          "output_type": "execute_result",
          "data": {
            "text/plain": [
              "torch.Size([4, 10])"
            ]
          },
          "metadata": {},
          "execution_count": 36
        }
      ]
    },
    {
      "cell_type": "markdown",
      "source": [
        "# Add loss function and optimizer\n",
        "Note: Don't have to add the softmax activation at the last layer as the crossentropy loss function of the pytorch has it"
      ],
      "metadata": {
        "id": "KF9TpwkyN6-m"
      }
    },
    {
      "cell_type": "code",
      "source": [
        "loss_fn = nn. CrossEntropyLoss()\n",
        "optimizer = torch.optim.Adam(model.parameters(), lr=0.01)"
      ],
      "metadata": {
        "id": "3BEzvL_7LfDA"
      },
      "execution_count": 37,
      "outputs": []
    },
    {
      "cell_type": "markdown",
      "source": [
        "# Function for training\n",
        "\n",
        "Note: model.train()- > To inform that the model is getting trained. This would help to activate the dropout layers and rescale the remaining hidden units for training (Don't have to add dropout layer seperately). Similarly, model.eval() the dropout layer is turned off.\n"
      ],
      "metadata": {
        "id": "Wt9NlpYJR8lt"
      }
    },
    {
      "cell_type": "code",
      "source": [
        "def train(model, num_epochs, train_d1, valid_d1):\n",
        "  \"\"\"\n",
        "  model -> built model\n",
        "  num_epochs -> epoch is the one complete pass through the training algorithm\n",
        "  train_d1 -> training data loaded with transforms\n",
        "  valid_d1 -> validation data loaded with transforms\n",
        "  \"\"\"\n",
        "  # Creating two list of zeros to record the history of losses and accuracies throughout the epoch \n",
        "  # Training set\n",
        "  loss_hist_train = [0] * num_epochs # to record the loss \n",
        "  accuracy_hist_train = [0] * num_epochs # to record the accuracy \n",
        "  # Validation set\n",
        "  loss_hist_valid = [0] * num_epochs\n",
        "  accuracy_hist_valid = [0] * num_epochs\n",
        "\n",
        "  # Looping through each epoch\n",
        "  for epoch in range(num_epochs):\n",
        "    model.train() # informs the layers that training has begun\n",
        "    for x_batch, y_batch in train_d1:\n",
        "      pred = model(x_batch)# Forward pass\n",
        "      loss = loss_fn(pred, y_batch) # calculate the loss wrt predicition\n",
        "      loss.backward() # backpropagate the loss -> computes gradients wrt parameters\n",
        "      optimizer.step() # single optimization\n",
        "      optimizer.zero_grad() # set the optimized gradients to zero\n",
        "      loss_hist_train[epoch] += loss.item()*y_batch.size(0) # loss for each batch (summed up)\n",
        "      is_correct = (\n",
        "          torch.argmax(pred, dim=1) == y_batch\n",
        "      ).float()\n",
        "      accuracy_hist_train[epoch] += is_correct.sum() # how_many are correct\n",
        "\n",
        "    loss_hist_train[epoch] /= len(train_d1.dataset) # 0 - 1\n",
        "    accuracy_hist_train[epoch] /= len(train_d1.dataset) # similar\n",
        "\n",
        "    model.eval()\n",
        "\n",
        "    with torch.no_grad(): # turn off the gradient calculation while training\n",
        "      for x_batch, y_batch in valid_d1:\n",
        "        pred = model(x_batch) # predict for each batch\n",
        "        loss = loss_fn(pred, y_batch) # calculate the loss\n",
        "        loss_hist_valid[epoch] += loss.item()*y_batch.size(0) # loss for each epoch (summed up)\n",
        "        is_correct = (\n",
        "            torch.argmax(pred, dim=1) == y_batch\n",
        "        ).float() \n",
        "        accuracy_hist_valid[epoch] += is_correct.sum()\n",
        "      loss_hist_valid[epoch] /= len(valid_d1.dataset)\n",
        "      accuracy_hist_valid[epoch] /= len(valid_d1.dataset)\n",
        "\n",
        "    print(f'Epoch {epoch+1} accuracy: {accuracy_hist_train[epoch]:.4f} val_accuracy:{accuracy_hist_valid[epoch]:.4f}')\n",
        "  return loss_hist_train, loss_hist_valid, accuracy_hist_train, accuracy_hist_valid\n",
        "      "
      ],
      "metadata": {
        "id": "zFxVtqRzOlKS"
      },
      "execution_count": 38,
      "outputs": []
    },
    {
      "cell_type": "markdown",
      "source": [
        "# Training and validating for 20 epochs"
      ],
      "metadata": {
        "id": "MJKnvAKMj6rk"
      }
    },
    {
      "cell_type": "code",
      "source": [
        "torch.manual_seed(1)\n",
        "num_epochs = 20\n",
        "hist = train(model, num_epochs, train_d1, valid_d1)\n"
      ],
      "metadata": {
        "colab": {
          "base_uri": "https://localhost:8080/"
        },
        "id": "_GSE6wIOVzQg",
        "outputId": "de684ff9-df71-4063-dedb-c587878e902d"
      },
      "execution_count": 39,
      "outputs": [
        {
          "output_type": "stream",
          "name": "stdout",
          "text": [
            "Epoch 1 accuracy: 0.6849 val_accuracy:0.9552\n",
            "Epoch 2 accuracy: 0.9526 val_accuracy:0.9447\n",
            "Epoch 3 accuracy: 0.9634 val_accuracy:0.9575\n",
            "Epoch 4 accuracy: 0.9599 val_accuracy:0.9646\n",
            "Epoch 5 accuracy: 0.9657 val_accuracy:0.9626\n",
            "Epoch 6 accuracy: 0.9698 val_accuracy:0.9472\n",
            "Epoch 7 accuracy: 0.9596 val_accuracy:0.9656\n",
            "Epoch 8 accuracy: 0.9654 val_accuracy:0.9649\n",
            "Epoch 9 accuracy: 0.9644 val_accuracy:0.9612\n",
            "Epoch 10 accuracy: 0.9732 val_accuracy:0.9676\n",
            "Epoch 11 accuracy: 0.9747 val_accuracy:0.9629\n",
            "Epoch 12 accuracy: 0.9730 val_accuracy:0.9701\n",
            "Epoch 13 accuracy: 0.9708 val_accuracy:0.9647\n",
            "Epoch 14 accuracy: 0.9725 val_accuracy:0.9661\n",
            "Epoch 15 accuracy: 0.9721 val_accuracy:0.9685\n",
            "Epoch 16 accuracy: 0.9760 val_accuracy:0.9714\n",
            "Epoch 17 accuracy: 0.9769 val_accuracy:0.9701\n",
            "Epoch 18 accuracy: 0.9728 val_accuracy:0.9666\n",
            "Epoch 19 accuracy: 0.9717 val_accuracy:0.9639\n",
            "Epoch 20 accuracy: 0.9732 val_accuracy:0.9667\n"
          ]
        }
      ]
    },
    {
      "cell_type": "markdown",
      "source": [
        "# Visualize the learning curves"
      ],
      "metadata": {
        "id": "4O1vKazMpk1s"
      }
    },
    {
      "cell_type": "code",
      "source": [
        "x_arr = np.arange(len(hist[0])) + 1\n",
        "fig = plt.figure(figsize=(12,4))\n",
        "ax = fig.add_subplot(1,2,1)\n",
        "ax.plot(x_arr, hist[0], \"-o\", label='Train Loss')\n",
        "ax.plot(x_arr, hist[1], \"--<\", label='Validation Loss')\n",
        "ax.legend(fontsize=15)\n",
        "ax.set_xlabel('Epoch', size=15)\n",
        "ax.set_ylabel('Loss', size=15)\n",
        "ax = fig.add_subplot(1,2,2)\n",
        "ax.plot(x_arr, hist[2], '-o', label='Train Accuracy')\n",
        "ax.plot(x_arr, hist[3], '--<', label='Validation Accuracy')\n",
        "ax.legend(fontsize=15)\n",
        "ax.set_xlabel('Epoch', size=15)\n",
        "ax.set_ylabel('Accuracy', size=15)\n",
        "plt.show()"
      ],
      "metadata": {
        "colab": {
          "base_uri": "https://localhost:8080/",
          "height": 284
        },
        "id": "dDQER7djpvpF",
        "outputId": "a0761d66-2640-4378-90e4-760ea0282012"
      },
      "execution_count": 42,
      "outputs": [
        {
          "output_type": "display_data",
          "data": {
            "text/plain": [
              "<Figure size 864x288 with 2 Axes>"
            ],
            "image/png": "[encoded data removed]"
          },
          "metadata": {
            "needs_background": "light"
          }
        }
      ]
    },
    {
      "cell_type": "markdown",
      "source": [
        "# Evaluate the trained model on the test"
      ],
      "metadata": {
        "id": "cu3ZsHWdpndO"
      }
    },
    {
      "cell_type": "code",
      "source": [
        "pred = model(mnist_test.data.unsqueeze(1)/ 255.)\n",
        "is_correct = (\n",
        "    torch.argmax(pred, dim=1) == mnist_test.targets\n",
        ").float()\n",
        "print(f'Test accuracy: {is_correct.mean():.4f}')"
      ],
      "metadata": {
        "colab": {
          "base_uri": "https://localhost:8080/"
        },
        "id": "U7kS7rXjr0Fd",
        "outputId": "2bf989ec-23c4-40e1-8b80-5824241b93b4"
      },
      "execution_count": 43,
      "outputs": [
        {
          "output_type": "stream",
          "name": "stdout",
          "text": [
            "Test accuracy: 0.9667\n"
          ]
        }
      ]
    },
    {
      "cell_type": "markdown",
      "source": [
        "# Images labeled with the output classification"
      ],
      "metadata": {
        "id": "NlR9VhV0puKW"
      }
    },
    {
      "cell_type": "code",
      "source": [
        "from prompt_toolkit.layout import HorizontalAlign\n",
        "fig = plt.figure(figsize=(12,4))\n",
        "for i in range(12):\n",
        "  ax = fig.add_subplot(2,6,i+1)\n",
        "  ax.set_xticks([]); ax.set_yticks([])\n",
        "  img = mnist_test[i][0][0 ,:, :]\n",
        "  pred = model(img.unsqueeze(0).unsqueeze(1))\n",
        "  y_pred = torch.argmax(pred)\n",
        "  ax.imshow(img, cmap = 'gray_r')\n",
        "  ax.text(0.9, 0.1, y_pred.item(),\n",
        "          size=15, color='blue',\n",
        "          horizontalalignment='center',\n",
        "          verticalalignment='center',\n",
        "          transform=ax.transAxes)\n",
        "plt.show()"
      ],
      "metadata": {
        "colab": {
          "base_uri": "https://localhost:8080/",
          "height": 249
        },
        "id": "lniu_IjolApb",
        "outputId": "71e67c6e-e98b-4707-d626-b5bd98b0c1ef"
      },
      "execution_count": 47,
      "outputs": [
        {
          "output_type": "display_data",
          "data": {
            "text/plain": [
              "<Figure size 864x288 with 12 Axes>"
            ],
            "image/png": "[encoded data removed]"
          },
          "metadata": {}
        }
      ]
    },
    {
      "cell_type": "code",
      "source": [],
      "metadata": {
        "id": "JQAmW1M5-W1s"
      },
      "execution_count": null,
      "outputs": []
    }
  ]
}